{
 "cells": [
  {
   "cell_type": "markdown",
   "id": "7cf8494a",
   "metadata": {},
   "source": [
    "## Splitting PDF files"
   ]
  },
  {
   "cell_type": "code",
   "execution_count": 1,
   "id": "42f5a117",
   "metadata": {},
   "outputs": [],
   "source": [
    "# importing the required modules\n",
    "import PyPDF2\n",
    "  \n",
    "def PDFsplit(pdf, splits):\n",
    "    # creating input pdf file object\n",
    "    pdfFileObj = open(pdf, 'rb')\n",
    "      \n",
    "    # creating pdf reader object\n",
    "    pdfReader = PyPDF2.PdfFileReader(pdfFileObj)\n",
    "      \n",
    "    # starting index of first slice\n",
    "    start = 0\n",
    "      \n",
    "    # starting index of last slice\n",
    "    end = splits[0]\n",
    "      \n",
    "      \n",
    "    for i in range(len(splits)+1):\n",
    "        # creating pdf writer object for (i+1)th split\n",
    "        pdfWriter = PyPDF2.PdfFileWriter()\n",
    "          \n",
    "        # output pdf file name\n",
    "        outputpdf = pdf.split('.pdf')[0] + str(i) + '.pdf'\n",
    "          \n",
    "        # adding pages to pdf writer object\n",
    "        for page in range(start,end):\n",
    "            pdfWriter.addPage(pdfReader.getPage(page))\n",
    "          \n",
    "        # writing split pdf pages to pdf file\n",
    "        with open(outputpdf, \"wb\") as f:\n",
    "            pdfWriter.write(f)\n",
    "  \n",
    "        # interchanging page split start position for next split\n",
    "        start = end\n",
    "        try:\n",
    "            # setting split end position for next split\n",
    "            end = splits[i+1]\n",
    "        except IndexError:\n",
    "            # setting split end position for last split\n",
    "            end = pdfReader.numPages\n",
    "          \n",
    "    # closing the input pdf file object\n",
    "    pdfFileObj.close()"
   ]
  },
  {
   "cell_type": "code",
   "execution_count": 2,
   "id": "16bee6c3",
   "metadata": {},
   "outputs": [],
   "source": [
    "pdf = 'Biostrings.pdf'\n",
    "splits = [10, 50, 100]\n",
    "\n",
    "PDFsplit(pdf, splits)"
   ]
  },
  {
   "cell_type": "markdown",
   "id": "11716e14",
   "metadata": {},
   "source": [
    "## Merging PDF files"
   ]
  },
  {
   "cell_type": "code",
   "execution_count": 6,
   "id": "3e13f5af",
   "metadata": {},
   "outputs": [],
   "source": [
    "# importing required modules\n",
    "import PyPDF2\n",
    "  \n",
    "def PDFmerge(pdfs, output):\n",
    "    # creating pdf file merger object\n",
    "    pdfMerger = PyPDF2.PdfFileMerger()\n",
    "  \n",
    "    # appending pdfs one by one\n",
    "    for pdf in pdfs:\n",
    "        pdfMerger.append(pdf)\n",
    "  \n",
    "    # writing combined pdf to output pdf file\n",
    "    with open(output, 'wb') as f:\n",
    "        pdfMerger.write(f)"
   ]
  },
  {
   "cell_type": "code",
   "execution_count": 7,
   "id": "99bf651e",
   "metadata": {},
   "outputs": [],
   "source": [
    "pdfs = ['Biostrings0.pdf', 'Biostrings1.pdf', 'Biostrings2.pdf', 'Biostrings3.pdf']\n",
    "output = 'Biostrings_new.pdf'\n",
    "\n",
    "PDFmerge(pdfs, output)"
   ]
  },
  {
   "cell_type": "code",
   "execution_count": null,
   "id": "47a584dc",
   "metadata": {},
   "outputs": [],
   "source": []
  }
 ],
 "metadata": {
  "kernelspec": {
   "display_name": "Python 3 (ipykernel)",
   "language": "python",
   "name": "python3"
  },
  "language_info": {
   "codemirror_mode": {
    "name": "ipython",
    "version": 3
   },
   "file_extension": ".py",
   "mimetype": "text/x-python",
   "name": "python",
   "nbconvert_exporter": "python",
   "pygments_lexer": "ipython3",
   "version": "3.9.12"
  }
 },
 "nbformat": 4,
 "nbformat_minor": 5
}
