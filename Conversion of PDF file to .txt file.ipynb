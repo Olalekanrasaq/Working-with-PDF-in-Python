{
 "cells": [
  {
   "cell_type": "code",
   "execution_count": 1,
   "id": "2b605907",
   "metadata": {},
   "outputs": [],
   "source": [
    "# importing required modules \n",
    "import PyPDF2"
   ]
  },
  {
   "cell_type": "code",
   "execution_count": 2,
   "id": "e2ac7011",
   "metadata": {},
   "outputs": [],
   "source": [
    "# creating a pdf file object \n",
    "pdfFileObj = open('Biostrings.pdf', 'rb')"
   ]
  },
  {
   "cell_type": "code",
   "execution_count": 3,
   "id": "689865a1",
   "metadata": {},
   "outputs": [],
   "source": [
    "# creating a pdf reader object \n",
    "pdfReader = PyPDF2.PdfFileReader(pdfFileObj)"
   ]
  },
  {
   "cell_type": "code",
   "execution_count": 4,
   "id": "7e75dbb4",
   "metadata": {},
   "outputs": [
    {
     "name": "stdout",
     "output_type": "stream",
     "text": [
      "173\n"
     ]
    }
   ],
   "source": [
    "# printing number of pages in pdf file \n",
    "print(pdfReader.numPages)"
   ]
  },
  {
   "cell_type": "code",
   "execution_count": 6,
   "id": "5743650a",
   "metadata": {},
   "outputs": [
    {
     "name": "stdout",
     "output_type": "stream",
     "text": [
      "Package ‘Biostrings’\n",
      "July 22, 2022\n",
      "Title Efﬁcient manipulation of biological strings\n",
      "Description Memory efﬁcient string containers, string matching\n",
      "algorithms, and other utilities, for fast manipulation of large\n",
      "biological sequences or sets of sequences.\n",
      "biocViews SequenceMatching, Alignment, Sequencing, Genetics,\n",
      "DataImport, DataRepresentation, Infrastructure\n",
      "URL https://bioconductor.org/packages/Biostrings\n",
      "BugReports https://github.com/Bioconductor/Biostrings/issues\n",
      "Version 2.65.1\n",
      "License Artistic-2.0\n",
      "Encoding UTF-8\n",
      "Author H. Pagès, P. Aboyoun, R. Gentleman, and S. DebRoy\n",
      "Maintainer H. Pagès <hpages.on.github@gmail.com>\n",
      "Depends R (>= 4.0.0), methods, BiocGenerics (>= 0.37.0), S4Vectors (>=\n",
      "0.27.12), IRanges (>= 2.23.9), XVector (>= 0.29.2),\n",
      "GenomeInfoDb\n",
      "Imports methods, utils, grDevices, graphics, stats, crayon\n",
      "LinkingTo S4Vectors, IRanges, XVector\n",
      "Enhances Rmpi\n",
      "Suggests BSgenome (>= 1.13.14), BSgenome.Celegans.UCSC.ce2 (>=\n",
      "1.3.11), BSgenome.Dmelanogaster.UCSC.dm3 (>= 1.3.11),\n",
      "BSgenome.Hsapiens.UCSC.hg18, drosophila2probe, hgu95av2probe,\n",
      "hgu133aprobe, GenomicFeatures (>= 1.3.14), hgu95av2cdf, affy\n",
      "(>= 1.41.3), affydata (>= 1.11.5), RUnit\n",
      "LazyLoad yes\n",
      "Collate 00datacache.R utils.R IUPAC_CODE_MAP.R AMINO_ACID_CODE.R\n",
      "GENETIC_CODE.R XStringCodec-class.R seqtype.R coloring.R\n",
      "XString-class.R XStringSet-class.R XStringSet-comparison.R\n",
      "XStringViews-class.R MaskedXString-class.R\n",
      "XStringSetList-class.R seqinfo-methods.R xscat.R\n",
      "1\n"
     ]
    }
   ],
   "source": [
    "# creating a page object \n",
    "pageObj = pdfReader.getPage(0)\n",
    "\n",
    "# extracting text from page \n",
    "content = pageObj.extractText()\n",
    "print(content)"
   ]
  },
  {
   "cell_type": "markdown",
   "id": "16795957",
   "metadata": {},
   "source": [
    "## Conversion of PDF file to text file"
   ]
  },
  {
   "cell_type": "code",
   "execution_count": 16,
   "id": "b0fb2ca9",
   "metadata": {},
   "outputs": [],
   "source": [
    "# creating a pdf file object \n",
    "pdfFileObj = open('ESH.pdf', 'rb')"
   ]
  },
  {
   "cell_type": "code",
   "execution_count": 17,
   "id": "b69b0181",
   "metadata": {},
   "outputs": [],
   "source": [
    "# creating a pdf reader object \n",
    "pdfReader = PyPDF2.PdfFileReader(pdfFileObj)"
   ]
  },
  {
   "cell_type": "code",
   "execution_count": 18,
   "id": "54c71881",
   "metadata": {},
   "outputs": [
    {
     "name": "stdout",
     "output_type": "stream",
     "text": [
      "17\n"
     ]
    }
   ],
   "source": [
    "# printing number of pages in pdf file \n",
    "numPages = pdfReader.numPages\n",
    "print(numPages)"
   ]
  },
  {
   "cell_type": "code",
   "execution_count": 23,
   "id": "9335fb2b",
   "metadata": {},
   "outputs": [],
   "source": [
    "for i in range(numPages):\n",
    "    pageObj = pdfReader.getPage(i)\n",
    "    content = pageObj.extractText()\n",
    "    with open('ESH.txt', mode='a', encoding='UTF-8', errors='replace') as output:\n",
    "        output.write(content)"
   ]
  },
  {
   "cell_type": "markdown",
   "id": "4279d91d",
   "metadata": {},
   "source": [
    "## Adding watermark to PDF file"
   ]
  },
  {
   "cell_type": "code",
   "execution_count": 26,
   "id": "99c3201a",
   "metadata": {},
   "outputs": [],
   "source": [
    "# importing the required modules\n",
    "import PyPDF2\n",
    "  \n",
    "def add_watermark(wmFile, pageObj):\n",
    "    # opening watermark pdf file\n",
    "    wmFileObj = open(wmFile, 'rb')\n",
    "     \n",
    "    # creating pdf reader object of watermark pdf file\n",
    "    pdfReader = PyPDF2.PdfFileReader(wmFileObj) \n",
    "      \n",
    "    # merging watermark pdf's first page with passed page object.\n",
    "    pageObj.mergePage(pdfReader.getPage(0))\n",
    "      \n",
    "    # closing the watermark pdf file object\n",
    "    wmFileObj.close()\n",
    "      \n",
    "    # returning watermarked page object\n",
    "    return pageObj\n",
    "  "
   ]
  },
  {
   "cell_type": "code",
   "execution_count": null,
   "id": "504e2672",
   "metadata": {},
   "outputs": [],
   "source": [
    "# watermark pdf file name\n",
    "mywatermark = 'UEFA.pdf'\n",
    "     \n",
    "# original pdf file name\n",
    "origFileName = 'Biostrings.pdf'\n",
    "      \n",
    "# new pdf file name\n",
    "newFileName = 'watermarked_example.pdf'\n",
    "      \n",
    "# creating pdf File object of original pdf\n",
    "pdfFileObj = open(origFileName, 'rb')\n",
    "      \n",
    "# creating a pdf Reader object\n",
    "pdfReader = PyPDF2.PdfFileReader(pdfFileObj)\n",
    "  \n",
    "# creating a pdf writer object for new pdf\n",
    "pdfWriter = PyPDF2.PdfFileWriter()\n",
    "      \n",
    "# adding watermark to each page\n",
    "for page in range(pdfReader.numPages):\n",
    "    # creating watermarked page object\n",
    "    mpageObj = add_watermark(mywatermark, pdfReader.getPage(page))\n",
    "          \n",
    "    # adding watermarked page object to pdf writer\n",
    "    pdfWriter.addPage(mpageObj)\n",
    "\n",
    "# new pdf file object\n",
    "newFile = open(newFileName, 'wb')\n",
    "      \n",
    "# writing watermarked pages to new file\n",
    "pdfWriter.write(newFile)\n",
    "  \n",
    "# closing the original pdf file object\n",
    "pdfFileObj.close()\n",
    "# closing the new pdf file object\n",
    "newFile.close()"
   ]
  },
  {
   "cell_type": "code",
   "execution_count": null,
   "id": "8d27f487",
   "metadata": {},
   "outputs": [],
   "source": []
  }
 ],
 "metadata": {
  "kernelspec": {
   "display_name": "Python 3 (ipykernel)",
   "language": "python",
   "name": "python3"
  },
  "language_info": {
   "codemirror_mode": {
    "name": "ipython",
    "version": 3
   },
   "file_extension": ".py",
   "mimetype": "text/x-python",
   "name": "python",
   "nbconvert_exporter": "python",
   "pygments_lexer": "ipython3",
   "version": "3.9.12"
  }
 },
 "nbformat": 4,
 "nbformat_minor": 5
}
